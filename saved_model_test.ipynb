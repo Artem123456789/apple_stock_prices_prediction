{
 "cells": [
  {
   "cell_type": "code",
   "execution_count": 1,
   "id": "ef1d1861-0536-418c-aafa-5f52152d56a3",
   "metadata": {},
   "outputs": [],
   "source": [
    "import joblib\n",
    "import pandas as pd"
   ]
  },
  {
   "cell_type": "code",
   "execution_count": 2,
   "id": "ce24c5d2-020e-4cbf-9c75-98d1d8d00cf5",
   "metadata": {},
   "outputs": [],
   "source": [
    "model = joblib.load(\"aapl.model.pkl\")"
   ]
  },
  {
   "cell_type": "code",
   "execution_count": 3,
   "id": "b083b0b0-8d6b-40f2-a1fd-c86e396c3b71",
   "metadata": {},
   "outputs": [],
   "source": [
    "test_df = pd.DataFrame({\"High\": [0.42902], \"Low\": [0.41874], \"Close\": [\"0.42388\"]})"
   ]
  },
  {
   "cell_type": "code",
   "execution_count": 4,
   "id": "fdc6b4c7-79c9-48d6-9e02-8419407bd451",
   "metadata": {},
   "outputs": [
    {
     "data": {
      "text/plain": [
       "0.42388"
      ]
     },
     "execution_count": 4,
     "metadata": {},
     "output_type": "execute_result"
    }
   ],
   "source": [
    "prediction = model.predict(test_df)[0]\n",
    "prediction"
   ]
  },
  {
   "cell_type": "code",
   "execution_count": null,
   "id": "ad6f39fb-147c-436b-b584-e0e80c2a7a1c",
   "metadata": {},
   "outputs": [],
   "source": []
  }
 ],
 "metadata": {
  "kernelspec": {
   "display_name": "Python 3 (ipykernel)",
   "language": "python",
   "name": "python3"
  },
  "language_info": {
   "codemirror_mode": {
    "name": "ipython",
    "version": 3
   },
   "file_extension": ".py",
   "mimetype": "text/x-python",
   "name": "python",
   "nbconvert_exporter": "python",
   "pygments_lexer": "ipython3",
   "version": "3.9.4"
  }
 },
 "nbformat": 4,
 "nbformat_minor": 5
}
