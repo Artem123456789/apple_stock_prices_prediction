{
 "cells": [
  {
   "cell_type": "code",
   "execution_count": 1,
   "id": "ef1d1861-0536-418c-aafa-5f52152d56a3",
   "metadata": {},
   "outputs": [],
   "source": [
    "import joblib\n",
    "import pandas as pd"
   ]
  },
  {
   "cell_type": "code",
   "execution_count": 2,
   "id": "ce24c5d2-020e-4cbf-9c75-98d1d8d00cf5",
   "metadata": {},
   "outputs": [],
   "source": [
    "model = joblib.load(\"aapl.model.pkl\")"
   ]
  },
  {
   "cell_type": "code",
   "execution_count": 3,
   "id": "b083b0b0-8d6b-40f2-a1fd-c86e396c3b71",
   "metadata": {},
   "outputs": [],
   "source": [
    "df = pd.read_csv(\"last AAPL.csv\")"
   ]
  },
  {
   "cell_type": "code",
   "execution_count": 4,
   "id": "540b6839-696d-4b87-88ee-18e082923210",
   "metadata": {},
   "outputs": [
    {
     "data": {
      "text/html": [
       "<div>\n",
       "<style scoped>\n",
       "    .dataframe tbody tr th:only-of-type {\n",
       "        vertical-align: middle;\n",
       "    }\n",
       "\n",
       "    .dataframe tbody tr th {\n",
       "        vertical-align: top;\n",
       "    }\n",
       "\n",
       "    .dataframe thead th {\n",
       "        text-align: right;\n",
       "    }\n",
       "</style>\n",
       "<table border=\"1\" class=\"dataframe\">\n",
       "  <thead>\n",
       "    <tr style=\"text-align: right;\">\n",
       "      <th></th>\n",
       "      <th>Дата</th>\n",
       "      <th>Цена</th>\n",
       "      <th>Откр.</th>\n",
       "      <th>Макс.</th>\n",
       "      <th>Мин.</th>\n",
       "      <th>Объём</th>\n",
       "      <th>Изм. %</th>\n",
       "    </tr>\n",
       "  </thead>\n",
       "  <tbody>\n",
       "    <tr>\n",
       "      <th>0</th>\n",
       "      <td>23.03.2022</td>\n",
       "      <td>171,28</td>\n",
       "      <td>168,07</td>\n",
       "      <td>171,60</td>\n",
       "      <td>167,68</td>\n",
       "      <td>36,45M</td>\n",
       "      <td>1,46%</td>\n",
       "    </tr>\n",
       "    <tr>\n",
       "      <th>1</th>\n",
       "      <td>22.03.2022</td>\n",
       "      <td>168,82</td>\n",
       "      <td>165,51</td>\n",
       "      <td>169,42</td>\n",
       "      <td>164,91</td>\n",
       "      <td>80,94M</td>\n",
       "      <td>2,08%</td>\n",
       "    </tr>\n",
       "    <tr>\n",
       "      <th>2</th>\n",
       "      <td>21.03.2022</td>\n",
       "      <td>165,38</td>\n",
       "      <td>163,51</td>\n",
       "      <td>166,35</td>\n",
       "      <td>163,01</td>\n",
       "      <td>95,81M</td>\n",
       "      <td>0,85%</td>\n",
       "    </tr>\n",
       "    <tr>\n",
       "      <th>3</th>\n",
       "      <td>18.03.2022</td>\n",
       "      <td>163,98</td>\n",
       "      <td>160,51</td>\n",
       "      <td>164,48</td>\n",
       "      <td>159,76</td>\n",
       "      <td>123,51M</td>\n",
       "      <td>2,09%</td>\n",
       "    </tr>\n",
       "    <tr>\n",
       "      <th>4</th>\n",
       "      <td>17.03.2022</td>\n",
       "      <td>160,62</td>\n",
       "      <td>158,61</td>\n",
       "      <td>161,00</td>\n",
       "      <td>157,63</td>\n",
       "      <td>75,33M</td>\n",
       "      <td>0,65%</td>\n",
       "    </tr>\n",
       "  </tbody>\n",
       "</table>\n",
       "</div>"
      ],
      "text/plain": [
       "         Дата    Цена   Откр.   Макс.    Мин.    Объём Изм. %\n",
       "0  23.03.2022  171,28  168,07  171,60  167,68   36,45M  1,46%\n",
       "1  22.03.2022  168,82  165,51  169,42  164,91   80,94M  2,08%\n",
       "2  21.03.2022  165,38  163,51  166,35  163,01   95,81M  0,85%\n",
       "3  18.03.2022  163,98  160,51  164,48  159,76  123,51M  2,09%\n",
       "4  17.03.2022  160,62  158,61  161,00  157,63   75,33M  0,65%"
      ]
     },
     "execution_count": 4,
     "metadata": {},
     "output_type": "execute_result"
    }
   ],
   "source": [
    "df.head()"
   ]
  },
  {
   "cell_type": "code",
   "execution_count": 5,
   "id": "f76fa8fc-8e2e-41b1-a2f3-0c5d74c02df9",
   "metadata": {},
   "outputs": [],
   "source": [
    "df = df.drop(columns=[\"Дата\", \"Изм. %\", \"Объём\"])"
   ]
  },
  {
   "cell_type": "code",
   "execution_count": 6,
   "id": "d0d8071c-5aed-4964-88b1-189025a3c09f",
   "metadata": {},
   "outputs": [
    {
     "data": {
      "text/html": [
       "<div>\n",
       "<style scoped>\n",
       "    .dataframe tbody tr th:only-of-type {\n",
       "        vertical-align: middle;\n",
       "    }\n",
       "\n",
       "    .dataframe tbody tr th {\n",
       "        vertical-align: top;\n",
       "    }\n",
       "\n",
       "    .dataframe thead th {\n",
       "        text-align: right;\n",
       "    }\n",
       "</style>\n",
       "<table border=\"1\" class=\"dataframe\">\n",
       "  <thead>\n",
       "    <tr style=\"text-align: right;\">\n",
       "      <th></th>\n",
       "      <th>Цена</th>\n",
       "      <th>Откр.</th>\n",
       "      <th>Макс.</th>\n",
       "      <th>Мин.</th>\n",
       "    </tr>\n",
       "  </thead>\n",
       "  <tbody>\n",
       "    <tr>\n",
       "      <th>0</th>\n",
       "      <td>171,28</td>\n",
       "      <td>168,07</td>\n",
       "      <td>171,60</td>\n",
       "      <td>167,68</td>\n",
       "    </tr>\n",
       "    <tr>\n",
       "      <th>1</th>\n",
       "      <td>168,82</td>\n",
       "      <td>165,51</td>\n",
       "      <td>169,42</td>\n",
       "      <td>164,91</td>\n",
       "    </tr>\n",
       "    <tr>\n",
       "      <th>2</th>\n",
       "      <td>165,38</td>\n",
       "      <td>163,51</td>\n",
       "      <td>166,35</td>\n",
       "      <td>163,01</td>\n",
       "    </tr>\n",
       "    <tr>\n",
       "      <th>3</th>\n",
       "      <td>163,98</td>\n",
       "      <td>160,51</td>\n",
       "      <td>164,48</td>\n",
       "      <td>159,76</td>\n",
       "    </tr>\n",
       "    <tr>\n",
       "      <th>4</th>\n",
       "      <td>160,62</td>\n",
       "      <td>158,61</td>\n",
       "      <td>161,00</td>\n",
       "      <td>157,63</td>\n",
       "    </tr>\n",
       "  </tbody>\n",
       "</table>\n",
       "</div>"
      ],
      "text/plain": [
       "     Цена   Откр.   Макс.    Мин.\n",
       "0  171,28  168,07  171,60  167,68\n",
       "1  168,82  165,51  169,42  164,91\n",
       "2  165,38  163,51  166,35  163,01\n",
       "3  163,98  160,51  164,48  159,76\n",
       "4  160,62  158,61  161,00  157,63"
      ]
     },
     "execution_count": 6,
     "metadata": {},
     "output_type": "execute_result"
    }
   ],
   "source": [
    "df.head()"
   ]
  },
  {
   "cell_type": "code",
   "execution_count": 7,
   "id": "01517b92-13ae-44b1-9eb2-42d198ae4d44",
   "metadata": {},
   "outputs": [],
   "source": [
    "df = df.rename(columns={\"Цена\": \"Close\", \"Откр.\": \"Open\", \"Макс.\": \"High\", \"Мин.\": \"Low\"})"
   ]
  },
  {
   "cell_type": "code",
   "execution_count": 8,
   "id": "39a7e367-6a04-4945-a583-3867abb3d46a",
   "metadata": {},
   "outputs": [
    {
     "data": {
      "text/html": [
       "<div>\n",
       "<style scoped>\n",
       "    .dataframe tbody tr th:only-of-type {\n",
       "        vertical-align: middle;\n",
       "    }\n",
       "\n",
       "    .dataframe tbody tr th {\n",
       "        vertical-align: top;\n",
       "    }\n",
       "\n",
       "    .dataframe thead th {\n",
       "        text-align: right;\n",
       "    }\n",
       "</style>\n",
       "<table border=\"1\" class=\"dataframe\">\n",
       "  <thead>\n",
       "    <tr style=\"text-align: right;\">\n",
       "      <th></th>\n",
       "      <th>Close</th>\n",
       "      <th>Open</th>\n",
       "      <th>High</th>\n",
       "      <th>Low</th>\n",
       "    </tr>\n",
       "  </thead>\n",
       "  <tbody>\n",
       "    <tr>\n",
       "      <th>0</th>\n",
       "      <td>171,28</td>\n",
       "      <td>168,07</td>\n",
       "      <td>171,60</td>\n",
       "      <td>167,68</td>\n",
       "    </tr>\n",
       "    <tr>\n",
       "      <th>1</th>\n",
       "      <td>168,82</td>\n",
       "      <td>165,51</td>\n",
       "      <td>169,42</td>\n",
       "      <td>164,91</td>\n",
       "    </tr>\n",
       "    <tr>\n",
       "      <th>2</th>\n",
       "      <td>165,38</td>\n",
       "      <td>163,51</td>\n",
       "      <td>166,35</td>\n",
       "      <td>163,01</td>\n",
       "    </tr>\n",
       "    <tr>\n",
       "      <th>3</th>\n",
       "      <td>163,98</td>\n",
       "      <td>160,51</td>\n",
       "      <td>164,48</td>\n",
       "      <td>159,76</td>\n",
       "    </tr>\n",
       "    <tr>\n",
       "      <th>4</th>\n",
       "      <td>160,62</td>\n",
       "      <td>158,61</td>\n",
       "      <td>161,00</td>\n",
       "      <td>157,63</td>\n",
       "    </tr>\n",
       "  </tbody>\n",
       "</table>\n",
       "</div>"
      ],
      "text/plain": [
       "    Close    Open    High     Low\n",
       "0  171,28  168,07  171,60  167,68\n",
       "1  168,82  165,51  169,42  164,91\n",
       "2  165,38  163,51  166,35  163,01\n",
       "3  163,98  160,51  164,48  159,76\n",
       "4  160,62  158,61  161,00  157,63"
      ]
     },
     "execution_count": 8,
     "metadata": {},
     "output_type": "execute_result"
    }
   ],
   "source": [
    "df.head()"
   ]
  },
  {
   "cell_type": "code",
   "execution_count": 9,
   "id": "e0786f98-160e-4582-8804-3ea2a208f758",
   "metadata": {},
   "outputs": [],
   "source": [
    "label = \"Close\"\n",
    "features = df.drop(columns=label).columns"
   ]
  },
  {
   "cell_type": "code",
   "execution_count": 10,
   "id": "1bdb894e-e3f0-40ae-96cc-3d74fe1d7b21",
   "metadata": {},
   "outputs": [],
   "source": [
    "for col in df.columns:\n",
    "    df[col] = df[col].apply(lambda x: x.replace(\",\", \".\"))"
   ]
  },
  {
   "cell_type": "code",
   "execution_count": 11,
   "id": "10bb1c69-6012-4bfa-a831-ac1f004d17fa",
   "metadata": {},
   "outputs": [
    {
     "data": {
      "text/html": [
       "<div>\n",
       "<style scoped>\n",
       "    .dataframe tbody tr th:only-of-type {\n",
       "        vertical-align: middle;\n",
       "    }\n",
       "\n",
       "    .dataframe tbody tr th {\n",
       "        vertical-align: top;\n",
       "    }\n",
       "\n",
       "    .dataframe thead th {\n",
       "        text-align: right;\n",
       "    }\n",
       "</style>\n",
       "<table border=\"1\" class=\"dataframe\">\n",
       "  <thead>\n",
       "    <tr style=\"text-align: right;\">\n",
       "      <th></th>\n",
       "      <th>Close</th>\n",
       "      <th>Open</th>\n",
       "      <th>High</th>\n",
       "      <th>Low</th>\n",
       "    </tr>\n",
       "  </thead>\n",
       "  <tbody>\n",
       "    <tr>\n",
       "      <th>0</th>\n",
       "      <td>171.28</td>\n",
       "      <td>168.07</td>\n",
       "      <td>171.60</td>\n",
       "      <td>167.68</td>\n",
       "    </tr>\n",
       "    <tr>\n",
       "      <th>1</th>\n",
       "      <td>168.82</td>\n",
       "      <td>165.51</td>\n",
       "      <td>169.42</td>\n",
       "      <td>164.91</td>\n",
       "    </tr>\n",
       "    <tr>\n",
       "      <th>2</th>\n",
       "      <td>165.38</td>\n",
       "      <td>163.51</td>\n",
       "      <td>166.35</td>\n",
       "      <td>163.01</td>\n",
       "    </tr>\n",
       "    <tr>\n",
       "      <th>3</th>\n",
       "      <td>163.98</td>\n",
       "      <td>160.51</td>\n",
       "      <td>164.48</td>\n",
       "      <td>159.76</td>\n",
       "    </tr>\n",
       "    <tr>\n",
       "      <th>4</th>\n",
       "      <td>160.62</td>\n",
       "      <td>158.61</td>\n",
       "      <td>161.00</td>\n",
       "      <td>157.63</td>\n",
       "    </tr>\n",
       "  </tbody>\n",
       "</table>\n",
       "</div>"
      ],
      "text/plain": [
       "    Close    Open    High     Low\n",
       "0  171.28  168.07  171.60  167.68\n",
       "1  168.82  165.51  169.42  164.91\n",
       "2  165.38  163.51  166.35  163.01\n",
       "3  163.98  160.51  164.48  159.76\n",
       "4  160.62  158.61  161.00  157.63"
      ]
     },
     "execution_count": 11,
     "metadata": {},
     "output_type": "execute_result"
    }
   ],
   "source": [
    "df.head()"
   ]
  },
  {
   "cell_type": "code",
   "execution_count": 12,
   "id": "0c2294ef-b858-4877-9169-02e9079af9b5",
   "metadata": {},
   "outputs": [],
   "source": [
    "df = df.astype(\"float\")"
   ]
  },
  {
   "cell_type": "code",
   "execution_count": 13,
   "id": "fdc6b4c7-79c9-48d6-9e02-8419407bd451",
   "metadata": {},
   "outputs": [],
   "source": [
    "predictions = model.predict(df[features])"
   ]
  },
  {
   "cell_type": "code",
   "execution_count": 14,
   "id": "ad6f39fb-147c-436b-b584-e0e80c2a7a1c",
   "metadata": {},
   "outputs": [
    {
     "data": {
      "text/html": [
       "<div>\n",
       "<style scoped>\n",
       "    .dataframe tbody tr th:only-of-type {\n",
       "        vertical-align: middle;\n",
       "    }\n",
       "\n",
       "    .dataframe tbody tr th {\n",
       "        vertical-align: top;\n",
       "    }\n",
       "\n",
       "    .dataframe thead th {\n",
       "        text-align: right;\n",
       "    }\n",
       "</style>\n",
       "<table border=\"1\" class=\"dataframe\">\n",
       "  <thead>\n",
       "    <tr style=\"text-align: right;\">\n",
       "      <th></th>\n",
       "      <th>real_value</th>\n",
       "      <th>predicted</th>\n",
       "    </tr>\n",
       "  </thead>\n",
       "  <tbody>\n",
       "    <tr>\n",
       "      <th>0</th>\n",
       "      <td>171.28</td>\n",
       "      <td>167.483209</td>\n",
       "    </tr>\n",
       "    <tr>\n",
       "      <th>1</th>\n",
       "      <td>168.82</td>\n",
       "      <td>167.507178</td>\n",
       "    </tr>\n",
       "    <tr>\n",
       "      <th>2</th>\n",
       "      <td>165.38</td>\n",
       "      <td>164.741970</td>\n",
       "    </tr>\n",
       "    <tr>\n",
       "      <th>3</th>\n",
       "      <td>163.98</td>\n",
       "      <td>161.063060</td>\n",
       "    </tr>\n",
       "    <tr>\n",
       "      <th>4</th>\n",
       "      <td>160.62</td>\n",
       "      <td>159.519701</td>\n",
       "    </tr>\n",
       "    <tr>\n",
       "      <th>5</th>\n",
       "      <td>159.59</td>\n",
       "      <td>156.569403</td>\n",
       "    </tr>\n",
       "    <tr>\n",
       "      <th>6</th>\n",
       "      <td>155.09</td>\n",
       "      <td>152.590010</td>\n",
       "    </tr>\n",
       "    <tr>\n",
       "      <th>7</th>\n",
       "      <td>150.62</td>\n",
       "      <td>152.560046</td>\n",
       "    </tr>\n",
       "    <tr>\n",
       "      <th>8</th>\n",
       "      <td>154.73</td>\n",
       "      <td>156.111459</td>\n",
       "    </tr>\n",
       "    <tr>\n",
       "      <th>9</th>\n",
       "      <td>158.52</td>\n",
       "      <td>158.741527</td>\n",
       "    </tr>\n",
       "    <tr>\n",
       "      <th>10</th>\n",
       "      <td>162.95</td>\n",
       "      <td>160.657468</td>\n",
       "    </tr>\n",
       "    <tr>\n",
       "      <th>11</th>\n",
       "      <td>157.44</td>\n",
       "      <td>160.264608</td>\n",
       "    </tr>\n",
       "    <tr>\n",
       "      <th>12</th>\n",
       "      <td>159.30</td>\n",
       "      <td>161.371299</td>\n",
       "    </tr>\n",
       "    <tr>\n",
       "      <th>13</th>\n",
       "      <td>163.17</td>\n",
       "      <td>164.024834</td>\n",
       "    </tr>\n",
       "    <tr>\n",
       "      <th>14</th>\n",
       "      <td>166.23</td>\n",
       "      <td>167.267880</td>\n",
       "    </tr>\n",
       "    <tr>\n",
       "      <th>15</th>\n",
       "      <td>166.56</td>\n",
       "      <td>165.831478</td>\n",
       "    </tr>\n",
       "    <tr>\n",
       "      <th>16</th>\n",
       "      <td>163.20</td>\n",
       "      <td>164.429165</td>\n",
       "    </tr>\n",
       "    <tr>\n",
       "      <th>17</th>\n",
       "      <td>165.12</td>\n",
       "      <td>164.061460</td>\n",
       "    </tr>\n",
       "    <tr>\n",
       "      <th>18</th>\n",
       "      <td>164.85</td>\n",
       "      <td>162.490340</td>\n",
       "    </tr>\n",
       "    <tr>\n",
       "      <th>19</th>\n",
       "      <td>162.74</td>\n",
       "      <td>156.603619</td>\n",
       "    </tr>\n",
       "    <tr>\n",
       "      <th>20</th>\n",
       "      <td>160.07</td>\n",
       "      <td>163.529981</td>\n",
       "    </tr>\n",
       "  </tbody>\n",
       "</table>\n",
       "</div>"
      ],
      "text/plain": [
       "    real_value   predicted\n",
       "0       171.28  167.483209\n",
       "1       168.82  167.507178\n",
       "2       165.38  164.741970\n",
       "3       163.98  161.063060\n",
       "4       160.62  159.519701\n",
       "5       159.59  156.569403\n",
       "6       155.09  152.590010\n",
       "7       150.62  152.560046\n",
       "8       154.73  156.111459\n",
       "9       158.52  158.741527\n",
       "10      162.95  160.657468\n",
       "11      157.44  160.264608\n",
       "12      159.30  161.371299\n",
       "13      163.17  164.024834\n",
       "14      166.23  167.267880\n",
       "15      166.56  165.831478\n",
       "16      163.20  164.429165\n",
       "17      165.12  164.061460\n",
       "18      164.85  162.490340\n",
       "19      162.74  156.603619\n",
       "20      160.07  163.529981"
      ]
     },
     "execution_count": 14,
     "metadata": {},
     "output_type": "execute_result"
    }
   ],
   "source": [
    "result_df = pd.DataFrame({\"real_value\": df[\"Close\"], \"predicted\": predictions})\n",
    "result_df"
   ]
  },
  {
   "cell_type": "code",
   "execution_count": 15,
   "id": "973e7eae-37d8-40ed-9756-779da74c90f0",
   "metadata": {},
   "outputs": [],
   "source": [
    "from sklearn.metrics import r2_score, mean_squared_error, mean_absolute_error"
   ]
  },
  {
   "cell_type": "code",
   "execution_count": 16,
   "id": "6fa70862-ce17-4129-83f2-5997ce0589ed",
   "metadata": {},
   "outputs": [
    {
     "data": {
      "text/plain": [
       "0.7449894135014314"
      ]
     },
     "execution_count": 16,
     "metadata": {},
     "output_type": "execute_result"
    }
   ],
   "source": [
    "r2_score(df[label], predictions)"
   ]
  },
  {
   "cell_type": "code",
   "execution_count": 17,
   "id": "3809b691-62d7-46b5-b6c3-9e254818ce62",
   "metadata": {},
   "outputs": [
    {
     "data": {
      "text/plain": [
       "5.954747694936743"
      ]
     },
     "execution_count": 17,
     "metadata": {},
     "output_type": "execute_result"
    }
   ],
   "source": [
    "mean_squared_error(df[label], predictions)"
   ]
  },
  {
   "cell_type": "code",
   "execution_count": 18,
   "id": "e585fd4e-1e6c-4fcc-8a98-6b12aa89dc65",
   "metadata": {},
   "outputs": [
    {
     "data": {
      "text/plain": [
       "2.0419953812539715"
      ]
     },
     "execution_count": 18,
     "metadata": {},
     "output_type": "execute_result"
    }
   ],
   "source": [
    "mean_absolute_error(df[label], predictions)"
   ]
  },
  {
   "cell_type": "code",
   "execution_count": null,
   "id": "7e4a88ae-3b59-4f55-97a1-cb13cbe77b39",
   "metadata": {},
   "outputs": [],
   "source": []
  }
 ],
 "metadata": {
  "kernelspec": {
   "display_name": "Python 3 (ipykernel)",
   "language": "python",
   "name": "python3"
  },
  "language_info": {
   "codemirror_mode": {
    "name": "ipython",
    "version": 3
   },
   "file_extension": ".py",
   "mimetype": "text/x-python",
   "name": "python",
   "nbconvert_exporter": "python",
   "pygments_lexer": "ipython3",
   "version": "3.9.4"
  }
 },
 "nbformat": 4,
 "nbformat_minor": 5
}
